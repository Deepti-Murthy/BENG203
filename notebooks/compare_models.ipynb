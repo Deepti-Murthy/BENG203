{
 "cells": [
  {
   "cell_type": "code",
   "execution_count": null,
   "id": "8085f062",
   "metadata": {},
   "outputs": [],
   "source": []
  },
  {
   "cell_type": "markdown",
   "id": "f0dcd091",
   "metadata": {},
   "source": [
    "## Compare accuracies across models"
   ]
  },
  {
   "cell_type": "code",
   "execution_count": null,
   "id": "6b5834ce",
   "metadata": {},
   "outputs": [],
   "source": [
    "Accuracies = {\n",
    "    \"Random Forest\": 0.8,\n",
    "    \"Logistic Regression\": 0.7,\n",
    "    \"SVM\": 0.6,\n",
    "    \"Naive Bayes\": 0.5,\n",
    "}\n",
    "\n",
    "Accuracies_std = {\n",
    "    \"Random Forest\": 0.1,\n",
    "    \"Logistic Regression\": 0.1,\n",
    "    \"SVM\": 0.1,\n",
    "    \"Naive Bayes\": 0.1,\n",
    "}"
   ]
  },
  {
   "cell_type": "markdown",
   "id": "2fa9f659",
   "metadata": {},
   "source": [
    "## AUROC comparison"
   ]
  },
  {
   "cell_type": "code",
   "execution_count": null,
   "id": "62966450",
   "metadata": {},
   "outputs": [],
   "source": [
    "AUROC_data = {\n",
    "    \"Random Forest\": {\n",
    "        \"probs\": [0.35, 0.54],\n",
    "        \"first_fold_y_true\": [1, 0],\n",
    "        \"first_fold_y_probs\": [0.35, 0.54]\n",
    "    }, \n",
    "    \"Logistic Regression\": {\n",
    "        \"probs\": [0.35, 0.54],\n",
    "        \"first_fold_y_true\": [1, 0],\n",
    "        \"first_fold_y_probs\": [0.35, 0.54]\n",
    "    }, \n",
    "}"
   ]
  }
 ],
 "metadata": {
  "language_info": {
   "name": "python"
  }
 },
 "nbformat": 4,
 "nbformat_minor": 5
}
