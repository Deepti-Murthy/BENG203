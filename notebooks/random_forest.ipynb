{
 "cells": [
  {
   "cell_type": "code",
   "execution_count": 1,
   "id": "cf702c2c",
   "metadata": {},
   "outputs": [
    {
     "name": "stderr",
     "output_type": "stream",
     "text": [
      "/Users/jeremyparkeryang/opt/anaconda3/envs/sheng_zhong/lib/python3.12/site-packages/tqdm/auto.py:21: TqdmWarning: IProgress not found. Please update jupyter and ipywidgets. See https://ipywidgets.readthedocs.io/en/stable/user_install.html\n",
      "  from .autonotebook import tqdm as notebook_tqdm\n"
     ]
    }
   ],
   "source": [
    "import pandas as pd\n",
    "import numpy as np\n",
    "from sklearn.model_selection import StratifiedKFold\n",
    "from sklearn.ensemble import RandomForestClassifier\n",
    "from sklearn.metrics import accuracy_score\n",
    "import shap\n",
    "import matplotlib.pyplot as plt\n",
    "import os\n",
    "from tqdm import tqdm"
   ]
  },
  {
   "cell_type": "markdown",
   "id": "a15a89e0",
   "metadata": {},
   "source": [
    "## Load the data 🛸🧐👽"
   ]
  },
  {
   "cell_type": "code",
   "execution_count": 2,
   "id": "7e9ba04b",
   "metadata": {},
   "outputs": [],
   "source": [
    "notebook_dir = os.getcwd()\n",
    "features_file = os.path.join(notebook_dir, '../data/toy_expression.tsv')\n",
    "labels_file = os.path.join(notebook_dir, '../data/toy_labels.tsv')\n",
    "\n",
    "features_df = pd.read_csv(features_file, sep='\\t', index_col=0)\n",
    "labels_df = pd.read_csv(labels_file, sep='\\t', index_col=0)"
   ]
  },
  {
   "cell_type": "markdown",
   "id": "908d0503",
   "metadata": {},
   "source": [
    "## Set up for cross validation 🫡🎯☺️"
   ]
  },
  {
   "cell_type": "code",
   "execution_count": 3,
   "id": "7b1eac97",
   "metadata": {},
   "outputs": [],
   "source": [
    "SEED = 33\n",
    "X = features_df.T.loc[labels_df.index]\n",
    "y = labels_df[\"label\"].values\n",
    "cv = StratifiedKFold(n_splits=5, shuffle=True, random_state=SEED)\n"
   ]
  },
  {
   "cell_type": "markdown",
   "id": "2aceecc6",
   "metadata": {},
   "source": [
    "## Train a Random Forest 🌲🌳📉"
   ]
  },
  {
   "cell_type": "code",
   "execution_count": 4,
   "id": "302bd89e",
   "metadata": {},
   "outputs": [
    {
     "name": "stderr",
     "output_type": "stream",
     "text": [
      "Cross-validation:  80%|████████  | 4/5 [00:00<00:00, 15.12it/s]"
     ]
    },
    {
     "name": "stdout",
     "output_type": "stream",
     "text": [
      "Fold 1 Accuracy: 0.0000\n",
      "Fold 2 Accuracy: 0.0000\n",
      "Fold 3 Accuracy: 0.5000\n",
      "Fold 4 Accuracy: 1.0000\n"
     ]
    },
    {
     "name": "stderr",
     "output_type": "stream",
     "text": [
      "Cross-validation: 100%|██████████| 5/5 [00:00<00:00, 15.11it/s]"
     ]
    },
    {
     "name": "stdout",
     "output_type": "stream",
     "text": [
      "Fold 5 Accuracy: 0.0000\n",
      "\n",
      "Mean Accuracy 🫡: 0.3000 ± 0.4000\n"
     ]
    },
    {
     "name": "stderr",
     "output_type": "stream",
     "text": [
      "\n"
     ]
    }
   ],
   "source": [
    "# Store results\n",
    "accuracies = []\n",
    "shap_values_all = []\n",
    "explainer = None\n",
    "\n",
    "for fold, (train_idx, test_idx) in tqdm(enumerate(cv.split(X, y), 1), total=5, desc='Cross-validation'):\n",
    "    X_train, X_test = X.iloc[train_idx], X.iloc[test_idx]\n",
    "    y_train, y_test = y[train_idx], y[test_idx]\n",
    "\n",
    "    # Train model\n",
    "    model = RandomForestClassifier(random_state=SEED) # change the model here\n",
    "    model.fit(X_train, y_train)\n",
    "\n",
    "    # Predict and evaluate\n",
    "    preds = model.predict(X_test)\n",
    "    acc = accuracy_score(y_test, preds)\n",
    "    accuracies.append(acc)\n",
    "    print(f\"Fold {fold} Accuracy: {acc:.4f}\")\n",
    "\n",
    "    # SHAP interpretation (only for first fold to save time)\n",
    "    if fold == 1:\n",
    "        explainer = shap.Explainer(model, X_train)\n",
    "        shap_values = explainer(X_test)\n",
    "        shap_values_all.append(shap_values)\n",
    "\n",
    "# Summary of performance\n",
    "print(f\"\\nMean Accuracy 🫡: {np.mean(accuracies):.4f} ± {np.std(accuracies):.4f}\")"
   ]
  },
  {
   "cell_type": "markdown",
   "id": "9a5b272f",
   "metadata": {},
   "source": [
    "## Shap evaluation 🧐😳☃️"
   ]
  },
  {
   "cell_type": "code",
   "execution_count": null,
   "id": "c1b86809",
   "metadata": {},
   "outputs": [
    {
     "ename": "ValueError",
     "evalue": "The beeswarm plot does not support plotting explanations with instances that have more than one dimension!",
     "output_type": "error",
     "traceback": [
      "\u001b[31m---------------------------------------------------------------------------\u001b[39m",
      "\u001b[31mValueError\u001b[39m                                Traceback (most recent call last)",
      "\u001b[36mCell\u001b[39m\u001b[36m \u001b[39m\u001b[32mIn[5]\u001b[39m\u001b[32m, line 3\u001b[39m\n\u001b[32m      1\u001b[39m \u001b[38;5;66;03m# SHAP summary plot for first fold\u001b[39;00m\n\u001b[32m      2\u001b[39m \u001b[38;5;28;01mif\u001b[39;00m shap_values_all:\n\u001b[32m----> \u001b[39m\u001b[32m3\u001b[39m     \u001b[43mshap\u001b[49m\u001b[43m.\u001b[49m\u001b[43mplots\u001b[49m\u001b[43m.\u001b[49m\u001b[43mbeeswarm\u001b[49m\u001b[43m(\u001b[49m\u001b[43mshap_values_all\u001b[49m\u001b[43m[\u001b[49m\u001b[32;43m0\u001b[39;49m\u001b[43m]\u001b[49m\u001b[43m)\u001b[49m\n",
      "\u001b[36mFile \u001b[39m\u001b[32m~/opt/anaconda3/envs/sheng_zhong/lib/python3.12/site-packages/shap/plots/_beeswarm.py:124\u001b[39m, in \u001b[36mbeeswarm\u001b[39m\u001b[34m(shap_values, max_display, order, clustering, cluster_threshold, color, axis_color, alpha, ax, show, log_scale, color_bar, s, plot_size, color_bar_label, group_remaining_features)\u001b[39m\n\u001b[32m    120\u001b[39m \u001b[38;5;28;01melif\u001b[39;00m \u001b[38;5;28mlen\u001b[39m(sv_shape) > \u001b[32m2\u001b[39m:\n\u001b[32m    121\u001b[39m     emsg = (\n\u001b[32m    122\u001b[39m         \u001b[33m\"\u001b[39m\u001b[33mThe beeswarm plot does not support plotting explanations with instances that have more than one dimension!\u001b[39m\u001b[33m\"\u001b[39m\n\u001b[32m    123\u001b[39m     )\n\u001b[32m--> \u001b[39m\u001b[32m124\u001b[39m     \u001b[38;5;28;01mraise\u001b[39;00m \u001b[38;5;167;01mValueError\u001b[39;00m(emsg)\n\u001b[32m    126\u001b[39m \u001b[38;5;28;01mif\u001b[39;00m ax \u001b[38;5;129;01mand\u001b[39;00m plot_size:\n\u001b[32m    127\u001b[39m     emsg = (\n\u001b[32m    128\u001b[39m         \u001b[33m\"\u001b[39m\u001b[33mThe beeswarm plot does not support passing an axis and adjusting the plot size. \u001b[39m\u001b[33m\"\u001b[39m\n\u001b[32m    129\u001b[39m         \u001b[33m\"\u001b[39m\u001b[33mTo adjust the size of the plot, set plot_size to None and adjust the size on the original figure the axes was part of\u001b[39m\u001b[33m\"\u001b[39m\n\u001b[32m    130\u001b[39m     )\n",
      "\u001b[31mValueError\u001b[39m: The beeswarm plot does not support plotting explanations with instances that have more than one dimension!"
     ]
    }
   ],
   "source": [
    "# SHAP summary plot for first fold (class 1 in binary classification)\n",
    "if shap_values_all:\n",
    "    shap.plots.beeswarm(shap_values_all[0][:, :, 1])"
   ]
  }
 ],
 "metadata": {
  "kernelspec": {
   "display_name": "sheng_zhong",
   "language": "python",
   "name": "python3"
  },
  "language_info": {
   "codemirror_mode": {
    "name": "ipython",
    "version": 3
   },
   "file_extension": ".py",
   "mimetype": "text/x-python",
   "name": "python",
   "nbconvert_exporter": "python",
   "pygments_lexer": "ipython3",
   "version": "3.12.10"
  }
 },
 "nbformat": 4,
 "nbformat_minor": 5
}
